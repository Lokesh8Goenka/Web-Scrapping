{
  "nbformat": 4,
  "nbformat_minor": 0,
  "metadata": {
    "colab": {
      "provenance": [],
      "toc_visible": true,
      "mount_file_id": "1Yg0LMjAeriI5XHICv083fzt03AFtj5oA",
      "authorship_tag": "ABX9TyPFL66Owi+hiJfVIuesF3vO",
      "include_colab_link": true
    },
    "kernelspec": {
      "name": "python3",
      "display_name": "Python 3"
    },
    "language_info": {
      "name": "python"
    }
  },
  "cells": [
    {
      "cell_type": "markdown",
      "metadata": {
        "id": "view-in-github",
        "colab_type": "text"
      },
      "source": [
        "<a href=\"https://colab.research.google.com/github/Lokesh8Goenka/Web-Scrapping/blob/main/Web_Scrapping.ipynb\" target=\"_parent\"><img src=\"https://colab.research.google.com/assets/colab-badge.svg\" alt=\"Open In Colab\"/></a>"
      ]
    },
    {
      "cell_type": "code",
      "execution_count": null,
      "metadata": {
        "colab": {
          "base_uri": "https://localhost:8080/"
        },
        "id": "podMFSo7Wjf4",
        "outputId": "d42c717b-2996-48b7-8032-44bc6cd37a89"
      },
      "outputs": [
        {
          "output_type": "stream",
          "name": "stdout",
          "text": [
            "Requirement already satisfied: beautifulsoup4 in /usr/local/lib/python3.10/dist-packages (4.12.3)\n",
            "Requirement already satisfied: soupsieve>1.2 in /usr/local/lib/python3.10/dist-packages (from beautifulsoup4) (2.5)\n"
          ]
        }
      ],
      "source": [
        "pip install beautifulsoup4"
      ]
    },
    {
      "cell_type": "code",
      "source": [
        "import requests\n",
        "from bs4 import BeautifulSoup\n",
        "\n",
        "# Replace with the URL you want to scrape\n",
        "url = \"/iess301.html\"\n",
        "\n",
        "# Fetch the HTML content\n",
        "response = requests.get(url)\n",
        "\n",
        "# Parse the HTML content with Beautiful Soup\n",
        "soup = BeautifulSoup(response.content, \"html.parser\")\n"
      ],
      "metadata": {
        "id": "gyW-J2U2WmQ1"
      },
      "execution_count": null,
      "outputs": []
    },
    {
      "cell_type": "code",
      "source": [
        "# Find all paragraph tags\n",
        "paragraphs = soup.find_all(\"p\")\n",
        "\n",
        "# Find the first `<h1>` tag\n",
        "# h1_tag = soup.find(\"h1\")\n",
        "\n",
        "# Find all `img` tags with the attribute `alt`\n",
        "# images_with_alt = soup.find_all(\"img\", alt=True)\n",
        "\n",
        "# Find all links with a specific class\n",
        "links_with_class = soup.find_all(class_=\"mw-page-title-main\")\n",
        "heading = links_with_class[0].text\n"
      ],
      "metadata": {
        "id": "wKUV2NPvWtLe"
      },
      "execution_count": null,
      "outputs": []
    },
    {
      "cell_type": "code",
      "source": [
        "import re\n",
        "\n",
        "def remove_square_brackets(text):\n",
        "    return re.sub(r\"\\[[^\\]]*\\]\", \"\", text)  # to remove bracketed text"
      ],
      "metadata": {
        "id": "rHRP8iq6jUWA"
      },
      "execution_count": null,
      "outputs": []
    },
    {
      "cell_type": "code",
      "source": [
        "def save_text_to_file(filename, text):\n",
        "\n",
        "    with open(filename, \"w\", encoding=\"utf-8\") as file:  # Open in write mode with UTF-8 encoding\n",
        "        file.write(text)"
      ],
      "metadata": {
        "id": "5PmsnbwllyYe"
      },
      "execution_count": null,
      "outputs": []
    },
    {
      "cell_type": "code",
      "source": [
        "# Get the text from the first paragraph\n",
        "\n",
        "paragraph_text = paragraphs[1].text\n",
        "paragraph_text\n",
        "\n",
        "clean_text = paragraph_text.replace(\"\\n\", \" \")  # Replace newlines with spaces\n",
        "clean_text\n",
        "\n",
        "# Get the URL from the first link\n",
        "# first_link_url = links_with_class[0][\"href\"]\n"
      ],
      "metadata": {
        "id": "iQbNnz1_Ww0M"
      },
      "execution_count": null,
      "outputs": []
    },
    {
      "cell_type": "code",
      "source": [
        "l = len(paragraphs)\n",
        "text = []\n",
        "\n",
        "for i in range(1,l):\n",
        "  paragraph_text = paragraphs[i].text\n",
        "  text1 = paragraph_text.replace(\"\\n\", \" \")\n",
        "  clean_text = remove_square_brackets(text1)\n",
        "  text.append(clean_text)\n",
        "# print(text)\n",
        "\n",
        "final_text = \" \".join(text)\n",
        "print(final_text)"
      ],
      "metadata": {
        "id": "pjHcDrsRYRDB"
      },
      "execution_count": null,
      "outputs": []
    },
    {
      "cell_type": "code",
      "source": [
        "len(final_text)"
      ],
      "metadata": {
        "id": "80FV-0XmrDLs"
      },
      "execution_count": null,
      "outputs": []
    }
  ]
}